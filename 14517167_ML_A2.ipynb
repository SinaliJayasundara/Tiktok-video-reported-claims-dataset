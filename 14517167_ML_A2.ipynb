{
  "cells": [
    {
      "cell_type": "markdown",
      "metadata": {
        "id": "view-in-github",
        "colab_type": "text"
      },
      "source": [
        "<a href=\"https://colab.research.google.com/github/SinaliJayasundara/Tiktok-video-reported-claims-dataset/blob/main/14517167_ML_A2.ipynb\" target=\"_parent\"><img src=\"https://colab.research.google.com/assets/colab-badge.svg\" alt=\"Open In Colab\"/></a>"
      ]
    },
    {
      "cell_type": "code",
      "source": [
        "import numpy as np\n",
        "import matplotlib.pyplot as plt\n",
        "import sklearn\n",
        "import seaborn as sns\n",
        "import pandas as pd\n",
        "from sklearn.model_selection import train_test_split\n",
        "from sklearn.preprocessing import StandardScaler, OneHotEncoder\n",
        "from sklearn.compose import ColumnTransformer\n",
        "from sklearn.pipeline import Pipeline\n",
        "from sklearn.neighbors import KNeighborsClassifier\n",
        "from sklearn.metrics import accuracy_score"
      ],
      "metadata": {
        "id": "nnZAEdK-iurV"
      },
      "execution_count": 1,
      "outputs": []
    },
    {
      "cell_type": "code",
      "source": [
        "from google.colab import drive\n",
        "drive.mount('/content/drive')"
      ],
      "metadata": {
        "id": "gdZtWSkodddf",
        "outputId": "72aae5a5-6cda-4499-f652-62301cf30070",
        "colab": {
          "base_uri": "https://localhost:8080/"
        }
      },
      "execution_count": 2,
      "outputs": [
        {
          "output_type": "stream",
          "name": "stdout",
          "text": [
            "Mounted at /content/drive\n"
          ]
        }
      ]
    },
    {
      "cell_type": "code",
      "source": [
        "df = pd.read_csv('/content/drive/MyDrive/Colab Notebooks/tiktok_claims.csv')"
      ],
      "metadata": {
        "id": "Ntj-9O38eCX9"
      },
      "execution_count": 3,
      "outputs": []
    },
    {
      "cell_type": "code",
      "source": [
        "df.drop(columns = ['id','video_id'], inplace = True) # removes columns \"id\" and \"video_id\""
      ],
      "metadata": {
        "id": "XOVVMLmGisse"
      },
      "execution_count": 4,
      "outputs": []
    },
    {
      "cell_type": "code",
      "source": [
        "df.isnull().sum() # checking null values"
      ],
      "metadata": {
        "id": "zGYc47lji9am",
        "outputId": "ce493466-1228-4027-cd2d-0d02e1c1c44b",
        "colab": {
          "base_uri": "https://localhost:8080/",
          "height": 397
        }
      },
      "execution_count": 5,
      "outputs": [
        {
          "output_type": "execute_result",
          "data": {
            "text/plain": [
              "claim_status                298\n",
              "video_duration_sec            0\n",
              "video_transcription_text    298\n",
              "verified_status               0\n",
              "author_ban_status             0\n",
              "video_view_count            298\n",
              "video_like_count            298\n",
              "video_share_count           298\n",
              "video_download_count        298\n",
              "video_comment_count         298\n",
              "dtype: int64"
            ],
            "text/html": [
              "<div>\n",
              "<style scoped>\n",
              "    .dataframe tbody tr th:only-of-type {\n",
              "        vertical-align: middle;\n",
              "    }\n",
              "\n",
              "    .dataframe tbody tr th {\n",
              "        vertical-align: top;\n",
              "    }\n",
              "\n",
              "    .dataframe thead th {\n",
              "        text-align: right;\n",
              "    }\n",
              "</style>\n",
              "<table border=\"1\" class=\"dataframe\">\n",
              "  <thead>\n",
              "    <tr style=\"text-align: right;\">\n",
              "      <th></th>\n",
              "      <th>0</th>\n",
              "    </tr>\n",
              "  </thead>\n",
              "  <tbody>\n",
              "    <tr>\n",
              "      <th>claim_status</th>\n",
              "      <td>298</td>\n",
              "    </tr>\n",
              "    <tr>\n",
              "      <th>video_duration_sec</th>\n",
              "      <td>0</td>\n",
              "    </tr>\n",
              "    <tr>\n",
              "      <th>video_transcription_text</th>\n",
              "      <td>298</td>\n",
              "    </tr>\n",
              "    <tr>\n",
              "      <th>verified_status</th>\n",
              "      <td>0</td>\n",
              "    </tr>\n",
              "    <tr>\n",
              "      <th>author_ban_status</th>\n",
              "      <td>0</td>\n",
              "    </tr>\n",
              "    <tr>\n",
              "      <th>video_view_count</th>\n",
              "      <td>298</td>\n",
              "    </tr>\n",
              "    <tr>\n",
              "      <th>video_like_count</th>\n",
              "      <td>298</td>\n",
              "    </tr>\n",
              "    <tr>\n",
              "      <th>video_share_count</th>\n",
              "      <td>298</td>\n",
              "    </tr>\n",
              "    <tr>\n",
              "      <th>video_download_count</th>\n",
              "      <td>298</td>\n",
              "    </tr>\n",
              "    <tr>\n",
              "      <th>video_comment_count</th>\n",
              "      <td>298</td>\n",
              "    </tr>\n",
              "  </tbody>\n",
              "</table>\n",
              "</div><br><label><b>dtype:</b> int64</label>"
            ]
          },
          "metadata": {},
          "execution_count": 5
        }
      ]
    },
    {
      "cell_type": "code",
      "source": [
        "df_cleaned = df.dropna(subset=['claim_status']) # remove rows where the 'claim_status' column has missing values"
      ],
      "metadata": {
        "id": "G-euG-qAjLWt"
      },
      "execution_count": 6,
      "outputs": []
    },
    {
      "cell_type": "code",
      "source": [
        "df_cleaned.isnull().sum() # checks for null values in the cleaned dataframe"
      ],
      "metadata": {
        "id": "2zaj_TYOjQdS",
        "outputId": "440c7a43-70c1-47fe-c7b7-7bb0e9ab9a5c",
        "colab": {
          "base_uri": "https://localhost:8080/",
          "height": 397
        }
      },
      "execution_count": 7,
      "outputs": [
        {
          "output_type": "execute_result",
          "data": {
            "text/plain": [
              "claim_status                0\n",
              "video_duration_sec          0\n",
              "video_transcription_text    0\n",
              "verified_status             0\n",
              "author_ban_status           0\n",
              "video_view_count            0\n",
              "video_like_count            0\n",
              "video_share_count           0\n",
              "video_download_count        0\n",
              "video_comment_count         0\n",
              "dtype: int64"
            ],
            "text/html": [
              "<div>\n",
              "<style scoped>\n",
              "    .dataframe tbody tr th:only-of-type {\n",
              "        vertical-align: middle;\n",
              "    }\n",
              "\n",
              "    .dataframe tbody tr th {\n",
              "        vertical-align: top;\n",
              "    }\n",
              "\n",
              "    .dataframe thead th {\n",
              "        text-align: right;\n",
              "    }\n",
              "</style>\n",
              "<table border=\"1\" class=\"dataframe\">\n",
              "  <thead>\n",
              "    <tr style=\"text-align: right;\">\n",
              "      <th></th>\n",
              "      <th>0</th>\n",
              "    </tr>\n",
              "  </thead>\n",
              "  <tbody>\n",
              "    <tr>\n",
              "      <th>claim_status</th>\n",
              "      <td>0</td>\n",
              "    </tr>\n",
              "    <tr>\n",
              "      <th>video_duration_sec</th>\n",
              "      <td>0</td>\n",
              "    </tr>\n",
              "    <tr>\n",
              "      <th>video_transcription_text</th>\n",
              "      <td>0</td>\n",
              "    </tr>\n",
              "    <tr>\n",
              "      <th>verified_status</th>\n",
              "      <td>0</td>\n",
              "    </tr>\n",
              "    <tr>\n",
              "      <th>author_ban_status</th>\n",
              "      <td>0</td>\n",
              "    </tr>\n",
              "    <tr>\n",
              "      <th>video_view_count</th>\n",
              "      <td>0</td>\n",
              "    </tr>\n",
              "    <tr>\n",
              "      <th>video_like_count</th>\n",
              "      <td>0</td>\n",
              "    </tr>\n",
              "    <tr>\n",
              "      <th>video_share_count</th>\n",
              "      <td>0</td>\n",
              "    </tr>\n",
              "    <tr>\n",
              "      <th>video_download_count</th>\n",
              "      <td>0</td>\n",
              "    </tr>\n",
              "    <tr>\n",
              "      <th>video_comment_count</th>\n",
              "      <td>0</td>\n",
              "    </tr>\n",
              "  </tbody>\n",
              "</table>\n",
              "</div><br><label><b>dtype:</b> int64</label>"
            ]
          },
          "metadata": {},
          "execution_count": 7
        }
      ]
    },
    {
      "cell_type": "code",
      "source": [
        "298/len(df)*100 # percentage of missing values"
      ],
      "metadata": {
        "id": "TOaTviOrjVJs",
        "outputId": "3924e296-ad5f-40ce-fc81-00a2fece47c2",
        "colab": {
          "base_uri": "https://localhost:8080/"
        }
      },
      "execution_count": 8,
      "outputs": [
        {
          "output_type": "execute_result",
          "data": {
            "text/plain": [
              "1.5375090289959756"
            ]
          },
          "metadata": {},
          "execution_count": 8
        }
      ]
    },
    {
      "cell_type": "code",
      "source": [
        "df_cleaned.info() # Show summary of df_cleaned: columns, non-null counts, and data types"
      ],
      "metadata": {
        "id": "cJi4Yt7Hja6-",
        "outputId": "727b1ab7-2024-4f24-9bde-9d77b87f058d",
        "colab": {
          "base_uri": "https://localhost:8080/"
        }
      },
      "execution_count": 9,
      "outputs": [
        {
          "output_type": "stream",
          "name": "stdout",
          "text": [
            "<class 'pandas.core.frame.DataFrame'>\n",
            "Index: 19084 entries, 0 to 19083\n",
            "Data columns (total 10 columns):\n",
            " #   Column                    Non-Null Count  Dtype  \n",
            "---  ------                    --------------  -----  \n",
            " 0   claim_status              19084 non-null  object \n",
            " 1   video_duration_sec        19084 non-null  int64  \n",
            " 2   video_transcription_text  19084 non-null  object \n",
            " 3   verified_status           19084 non-null  object \n",
            " 4   author_ban_status         19084 non-null  object \n",
            " 5   video_view_count          19084 non-null  float64\n",
            " 6   video_like_count          19084 non-null  float64\n",
            " 7   video_share_count         19084 non-null  float64\n",
            " 8   video_download_count      19084 non-null  float64\n",
            " 9   video_comment_count       19084 non-null  float64\n",
            "dtypes: float64(5), int64(1), object(4)\n",
            "memory usage: 1.6+ MB\n"
          ]
        }
      ]
    },
    {
      "cell_type": "code",
      "source": [
        "# text length\n",
        "\n",
        "df_cleaned['text_length'] = df_cleaned['video_transcription_text'].str.len() # add 'text_length' column\n",
        "df_cleaned = df_cleaned.drop(['video_transcription_text'], axis=1) # remove 'video_transcription_text' column\n",
        "\n",
        "df_cleaned.head() # Show first 5 rows"
      ],
      "metadata": {
        "id": "L9gRl2K-jo88",
        "outputId": "bec32eef-de89-491d-dde9-ac53e1a09e7d",
        "colab": {
          "base_uri": "https://localhost:8080/",
          "height": 330
        }
      },
      "execution_count": 10,
      "outputs": [
        {
          "output_type": "stream",
          "name": "stderr",
          "text": [
            "<ipython-input-10-bb22c24ad773>:3: SettingWithCopyWarning: \n",
            "A value is trying to be set on a copy of a slice from a DataFrame.\n",
            "Try using .loc[row_indexer,col_indexer] = value instead\n",
            "\n",
            "See the caveats in the documentation: https://pandas.pydata.org/pandas-docs/stable/user_guide/indexing.html#returning-a-view-versus-a-copy\n",
            "  df_cleaned['text_length'] = df_cleaned['video_transcription_text'].str.len() # add 'text_length' column\n"
          ]
        },
        {
          "output_type": "execute_result",
          "data": {
            "text/plain": [
              "  claim_status  video_duration_sec verified_status author_ban_status  \\\n",
              "0        claim                  59    not verified      under review   \n",
              "1        claim                  32    not verified            active   \n",
              "2        claim                  31    not verified            active   \n",
              "3        claim                  25    not verified            active   \n",
              "4        claim                  19    not verified            active   \n",
              "\n",
              "   video_view_count  video_like_count  video_share_count  \\\n",
              "0          343296.0           19425.0              241.0   \n",
              "1          140877.0           77355.0            19034.0   \n",
              "2          902185.0           97690.0             2858.0   \n",
              "3          437506.0          239954.0            34812.0   \n",
              "4           56167.0           34987.0             4110.0   \n",
              "\n",
              "   video_download_count  video_comment_count  text_length  \n",
              "0                   1.0                  0.0           97  \n",
              "1                1161.0                684.0          107  \n",
              "2                 833.0                329.0          137  \n",
              "3                1234.0                584.0          131  \n",
              "4                 547.0                152.0          128  "
            ],
            "text/html": [
              "\n",
              "  <div id=\"df-57de2050-ad50-4774-8e42-ce894ba2b42a\" class=\"colab-df-container\">\n",
              "    <div>\n",
              "<style scoped>\n",
              "    .dataframe tbody tr th:only-of-type {\n",
              "        vertical-align: middle;\n",
              "    }\n",
              "\n",
              "    .dataframe tbody tr th {\n",
              "        vertical-align: top;\n",
              "    }\n",
              "\n",
              "    .dataframe thead th {\n",
              "        text-align: right;\n",
              "    }\n",
              "</style>\n",
              "<table border=\"1\" class=\"dataframe\">\n",
              "  <thead>\n",
              "    <tr style=\"text-align: right;\">\n",
              "      <th></th>\n",
              "      <th>claim_status</th>\n",
              "      <th>video_duration_sec</th>\n",
              "      <th>verified_status</th>\n",
              "      <th>author_ban_status</th>\n",
              "      <th>video_view_count</th>\n",
              "      <th>video_like_count</th>\n",
              "      <th>video_share_count</th>\n",
              "      <th>video_download_count</th>\n",
              "      <th>video_comment_count</th>\n",
              "      <th>text_length</th>\n",
              "    </tr>\n",
              "  </thead>\n",
              "  <tbody>\n",
              "    <tr>\n",
              "      <th>0</th>\n",
              "      <td>claim</td>\n",
              "      <td>59</td>\n",
              "      <td>not verified</td>\n",
              "      <td>under review</td>\n",
              "      <td>343296.0</td>\n",
              "      <td>19425.0</td>\n",
              "      <td>241.0</td>\n",
              "      <td>1.0</td>\n",
              "      <td>0.0</td>\n",
              "      <td>97</td>\n",
              "    </tr>\n",
              "    <tr>\n",
              "      <th>1</th>\n",
              "      <td>claim</td>\n",
              "      <td>32</td>\n",
              "      <td>not verified</td>\n",
              "      <td>active</td>\n",
              "      <td>140877.0</td>\n",
              "      <td>77355.0</td>\n",
              "      <td>19034.0</td>\n",
              "      <td>1161.0</td>\n",
              "      <td>684.0</td>\n",
              "      <td>107</td>\n",
              "    </tr>\n",
              "    <tr>\n",
              "      <th>2</th>\n",
              "      <td>claim</td>\n",
              "      <td>31</td>\n",
              "      <td>not verified</td>\n",
              "      <td>active</td>\n",
              "      <td>902185.0</td>\n",
              "      <td>97690.0</td>\n",
              "      <td>2858.0</td>\n",
              "      <td>833.0</td>\n",
              "      <td>329.0</td>\n",
              "      <td>137</td>\n",
              "    </tr>\n",
              "    <tr>\n",
              "      <th>3</th>\n",
              "      <td>claim</td>\n",
              "      <td>25</td>\n",
              "      <td>not verified</td>\n",
              "      <td>active</td>\n",
              "      <td>437506.0</td>\n",
              "      <td>239954.0</td>\n",
              "      <td>34812.0</td>\n",
              "      <td>1234.0</td>\n",
              "      <td>584.0</td>\n",
              "      <td>131</td>\n",
              "    </tr>\n",
              "    <tr>\n",
              "      <th>4</th>\n",
              "      <td>claim</td>\n",
              "      <td>19</td>\n",
              "      <td>not verified</td>\n",
              "      <td>active</td>\n",
              "      <td>56167.0</td>\n",
              "      <td>34987.0</td>\n",
              "      <td>4110.0</td>\n",
              "      <td>547.0</td>\n",
              "      <td>152.0</td>\n",
              "      <td>128</td>\n",
              "    </tr>\n",
              "  </tbody>\n",
              "</table>\n",
              "</div>\n",
              "    <div class=\"colab-df-buttons\">\n",
              "\n",
              "  <div class=\"colab-df-container\">\n",
              "    <button class=\"colab-df-convert\" onclick=\"convertToInteractive('df-57de2050-ad50-4774-8e42-ce894ba2b42a')\"\n",
              "            title=\"Convert this dataframe to an interactive table.\"\n",
              "            style=\"display:none;\">\n",
              "\n",
              "  <svg xmlns=\"http://www.w3.org/2000/svg\" height=\"24px\" viewBox=\"0 -960 960 960\">\n",
              "    <path d=\"M120-120v-720h720v720H120Zm60-500h600v-160H180v160Zm220 220h160v-160H400v160Zm0 220h160v-160H400v160ZM180-400h160v-160H180v160Zm440 0h160v-160H620v160ZM180-180h160v-160H180v160Zm440 0h160v-160H620v160Z\"/>\n",
              "  </svg>\n",
              "    </button>\n",
              "\n",
              "  <style>\n",
              "    .colab-df-container {\n",
              "      display:flex;\n",
              "      gap: 12px;\n",
              "    }\n",
              "\n",
              "    .colab-df-convert {\n",
              "      background-color: #E8F0FE;\n",
              "      border: none;\n",
              "      border-radius: 50%;\n",
              "      cursor: pointer;\n",
              "      display: none;\n",
              "      fill: #1967D2;\n",
              "      height: 32px;\n",
              "      padding: 0 0 0 0;\n",
              "      width: 32px;\n",
              "    }\n",
              "\n",
              "    .colab-df-convert:hover {\n",
              "      background-color: #E2EBFA;\n",
              "      box-shadow: 0px 1px 2px rgba(60, 64, 67, 0.3), 0px 1px 3px 1px rgba(60, 64, 67, 0.15);\n",
              "      fill: #174EA6;\n",
              "    }\n",
              "\n",
              "    .colab-df-buttons div {\n",
              "      margin-bottom: 4px;\n",
              "    }\n",
              "\n",
              "    [theme=dark] .colab-df-convert {\n",
              "      background-color: #3B4455;\n",
              "      fill: #D2E3FC;\n",
              "    }\n",
              "\n",
              "    [theme=dark] .colab-df-convert:hover {\n",
              "      background-color: #434B5C;\n",
              "      box-shadow: 0px 1px 3px 1px rgba(0, 0, 0, 0.15);\n",
              "      filter: drop-shadow(0px 1px 2px rgba(0, 0, 0, 0.3));\n",
              "      fill: #FFFFFF;\n",
              "    }\n",
              "  </style>\n",
              "\n",
              "    <script>\n",
              "      const buttonEl =\n",
              "        document.querySelector('#df-57de2050-ad50-4774-8e42-ce894ba2b42a button.colab-df-convert');\n",
              "      buttonEl.style.display =\n",
              "        google.colab.kernel.accessAllowed ? 'block' : 'none';\n",
              "\n",
              "      async function convertToInteractive(key) {\n",
              "        const element = document.querySelector('#df-57de2050-ad50-4774-8e42-ce894ba2b42a');\n",
              "        const dataTable =\n",
              "          await google.colab.kernel.invokeFunction('convertToInteractive',\n",
              "                                                    [key], {});\n",
              "        if (!dataTable) return;\n",
              "\n",
              "        const docLinkHtml = 'Like what you see? Visit the ' +\n",
              "          '<a target=\"_blank\" href=https://colab.research.google.com/notebooks/data_table.ipynb>data table notebook</a>'\n",
              "          + ' to learn more about interactive tables.';\n",
              "        element.innerHTML = '';\n",
              "        dataTable['output_type'] = 'display_data';\n",
              "        await google.colab.output.renderOutput(dataTable, element);\n",
              "        const docLink = document.createElement('div');\n",
              "        docLink.innerHTML = docLinkHtml;\n",
              "        element.appendChild(docLink);\n",
              "      }\n",
              "    </script>\n",
              "  </div>\n",
              "\n",
              "\n",
              "<div id=\"df-9656a1bc-c563-4cdd-9506-c2e7f2ae8ece\">\n",
              "  <button class=\"colab-df-quickchart\" onclick=\"quickchart('df-9656a1bc-c563-4cdd-9506-c2e7f2ae8ece')\"\n",
              "            title=\"Suggest charts\"\n",
              "            style=\"display:none;\">\n",
              "\n",
              "<svg xmlns=\"http://www.w3.org/2000/svg\" height=\"24px\"viewBox=\"0 0 24 24\"\n",
              "     width=\"24px\">\n",
              "    <g>\n",
              "        <path d=\"M19 3H5c-1.1 0-2 .9-2 2v14c0 1.1.9 2 2 2h14c1.1 0 2-.9 2-2V5c0-1.1-.9-2-2-2zM9 17H7v-7h2v7zm4 0h-2V7h2v10zm4 0h-2v-4h2v4z\"/>\n",
              "    </g>\n",
              "</svg>\n",
              "  </button>\n",
              "\n",
              "<style>\n",
              "  .colab-df-quickchart {\n",
              "      --bg-color: #E8F0FE;\n",
              "      --fill-color: #1967D2;\n",
              "      --hover-bg-color: #E2EBFA;\n",
              "      --hover-fill-color: #174EA6;\n",
              "      --disabled-fill-color: #AAA;\n",
              "      --disabled-bg-color: #DDD;\n",
              "  }\n",
              "\n",
              "  [theme=dark] .colab-df-quickchart {\n",
              "      --bg-color: #3B4455;\n",
              "      --fill-color: #D2E3FC;\n",
              "      --hover-bg-color: #434B5C;\n",
              "      --hover-fill-color: #FFFFFF;\n",
              "      --disabled-bg-color: #3B4455;\n",
              "      --disabled-fill-color: #666;\n",
              "  }\n",
              "\n",
              "  .colab-df-quickchart {\n",
              "    background-color: var(--bg-color);\n",
              "    border: none;\n",
              "    border-radius: 50%;\n",
              "    cursor: pointer;\n",
              "    display: none;\n",
              "    fill: var(--fill-color);\n",
              "    height: 32px;\n",
              "    padding: 0;\n",
              "    width: 32px;\n",
              "  }\n",
              "\n",
              "  .colab-df-quickchart:hover {\n",
              "    background-color: var(--hover-bg-color);\n",
              "    box-shadow: 0 1px 2px rgba(60, 64, 67, 0.3), 0 1px 3px 1px rgba(60, 64, 67, 0.15);\n",
              "    fill: var(--button-hover-fill-color);\n",
              "  }\n",
              "\n",
              "  .colab-df-quickchart-complete:disabled,\n",
              "  .colab-df-quickchart-complete:disabled:hover {\n",
              "    background-color: var(--disabled-bg-color);\n",
              "    fill: var(--disabled-fill-color);\n",
              "    box-shadow: none;\n",
              "  }\n",
              "\n",
              "  .colab-df-spinner {\n",
              "    border: 2px solid var(--fill-color);\n",
              "    border-color: transparent;\n",
              "    border-bottom-color: var(--fill-color);\n",
              "    animation:\n",
              "      spin 1s steps(1) infinite;\n",
              "  }\n",
              "\n",
              "  @keyframes spin {\n",
              "    0% {\n",
              "      border-color: transparent;\n",
              "      border-bottom-color: var(--fill-color);\n",
              "      border-left-color: var(--fill-color);\n",
              "    }\n",
              "    20% {\n",
              "      border-color: transparent;\n",
              "      border-left-color: var(--fill-color);\n",
              "      border-top-color: var(--fill-color);\n",
              "    }\n",
              "    30% {\n",
              "      border-color: transparent;\n",
              "      border-left-color: var(--fill-color);\n",
              "      border-top-color: var(--fill-color);\n",
              "      border-right-color: var(--fill-color);\n",
              "    }\n",
              "    40% {\n",
              "      border-color: transparent;\n",
              "      border-right-color: var(--fill-color);\n",
              "      border-top-color: var(--fill-color);\n",
              "    }\n",
              "    60% {\n",
              "      border-color: transparent;\n",
              "      border-right-color: var(--fill-color);\n",
              "    }\n",
              "    80% {\n",
              "      border-color: transparent;\n",
              "      border-right-color: var(--fill-color);\n",
              "      border-bottom-color: var(--fill-color);\n",
              "    }\n",
              "    90% {\n",
              "      border-color: transparent;\n",
              "      border-bottom-color: var(--fill-color);\n",
              "    }\n",
              "  }\n",
              "</style>\n",
              "\n",
              "  <script>\n",
              "    async function quickchart(key) {\n",
              "      const quickchartButtonEl =\n",
              "        document.querySelector('#' + key + ' button');\n",
              "      quickchartButtonEl.disabled = true;  // To prevent multiple clicks.\n",
              "      quickchartButtonEl.classList.add('colab-df-spinner');\n",
              "      try {\n",
              "        const charts = await google.colab.kernel.invokeFunction(\n",
              "            'suggestCharts', [key], {});\n",
              "      } catch (error) {\n",
              "        console.error('Error during call to suggestCharts:', error);\n",
              "      }\n",
              "      quickchartButtonEl.classList.remove('colab-df-spinner');\n",
              "      quickchartButtonEl.classList.add('colab-df-quickchart-complete');\n",
              "    }\n",
              "    (() => {\n",
              "      let quickchartButtonEl =\n",
              "        document.querySelector('#df-9656a1bc-c563-4cdd-9506-c2e7f2ae8ece button');\n",
              "      quickchartButtonEl.style.display =\n",
              "        google.colab.kernel.accessAllowed ? 'block' : 'none';\n",
              "    })();\n",
              "  </script>\n",
              "</div>\n",
              "\n",
              "    </div>\n",
              "  </div>\n"
            ],
            "application/vnd.google.colaboratory.intrinsic+json": {
              "type": "dataframe",
              "variable_name": "df_cleaned",
              "summary": "{\n  \"name\": \"df_cleaned\",\n  \"rows\": 19084,\n  \"fields\": [\n    {\n      \"column\": \"claim_status\",\n      \"properties\": {\n        \"dtype\": \"category\",\n        \"num_unique_values\": 2,\n        \"samples\": [\n          \"opinion\",\n          \"claim\"\n        ],\n        \"semantic_type\": \"\",\n        \"description\": \"\"\n      }\n    },\n    {\n      \"column\": \"video_duration_sec\",\n      \"properties\": {\n        \"dtype\": \"number\",\n        \"std\": 16,\n        \"min\": 5,\n        \"max\": 60,\n        \"num_unique_values\": 56,\n        \"samples\": [\n          59,\n          35\n        ],\n        \"semantic_type\": \"\",\n        \"description\": \"\"\n      }\n    },\n    {\n      \"column\": \"verified_status\",\n      \"properties\": {\n        \"dtype\": \"category\",\n        \"num_unique_values\": 2,\n        \"samples\": [\n          \"verified\",\n          \"not verified\"\n        ],\n        \"semantic_type\": \"\",\n        \"description\": \"\"\n      }\n    },\n    {\n      \"column\": \"author_ban_status\",\n      \"properties\": {\n        \"dtype\": \"category\",\n        \"num_unique_values\": 3,\n        \"samples\": [\n          \"under review\",\n          \"active\"\n        ],\n        \"semantic_type\": \"\",\n        \"description\": \"\"\n      }\n    },\n    {\n      \"column\": \"video_view_count\",\n      \"properties\": {\n        \"dtype\": \"number\",\n        \"std\": 322893.2808137869,\n        \"min\": 20.0,\n        \"max\": 999817.0,\n        \"num_unique_values\": 15632,\n        \"samples\": [\n          958147.0,\n          649312.0\n        ],\n        \"semantic_type\": \"\",\n        \"description\": \"\"\n      }\n    },\n    {\n      \"column\": \"video_like_count\",\n      \"properties\": {\n        \"dtype\": \"number\",\n        \"std\": 133420.5468136719,\n        \"min\": 0.0,\n        \"max\": 657830.0,\n        \"num_unique_values\": 12224,\n        \"samples\": [\n          130738.0,\n          1252.0\n        ],\n        \"semantic_type\": \"\",\n        \"description\": \"\"\n      }\n    },\n    {\n      \"column\": \"video_share_count\",\n      \"properties\": {\n        \"dtype\": \"number\",\n        \"std\": 32036.174350150377,\n        \"min\": 0.0,\n        \"max\": 256130.0,\n        \"num_unique_values\": 9231,\n        \"samples\": [\n          95100.0,\n          24963.0\n        ],\n        \"semantic_type\": \"\",\n        \"description\": \"\"\n      }\n    },\n    {\n      \"column\": \"video_download_count\",\n      \"properties\": {\n        \"dtype\": \"number\",\n        \"std\": 2004.299893979194,\n        \"min\": 0.0,\n        \"max\": 14994.0,\n        \"num_unique_values\": 4336,\n        \"samples\": [\n          1046.0,\n          1446.0\n        ],\n        \"semantic_type\": \"\",\n        \"description\": \"\"\n      }\n    },\n    {\n      \"column\": \"video_comment_count\",\n      \"properties\": {\n        \"dtype\": \"number\",\n        \"std\": 799.6388647869892,\n        \"min\": 0.0,\n        \"max\": 9599.0,\n        \"num_unique_values\": 2424,\n        \"samples\": [\n          1171.0,\n          1308.0\n        ],\n        \"semantic_type\": \"\",\n        \"description\": \"\"\n      }\n    },\n    {\n      \"column\": \"text_length\",\n      \"properties\": {\n        \"dtype\": \"number\",\n        \"std\": 20,\n        \"min\": 31,\n        \"max\": 182,\n        \"num_unique_values\": 146,\n        \"samples\": [\n          122,\n          60\n        ],\n        \"semantic_type\": \"\",\n        \"description\": \"\"\n      }\n    }\n  ]\n}"
            }
          },
          "metadata": {},
          "execution_count": 10
        }
      ]
    },
    {
      "cell_type": "code",
      "source": [
        "df_cleaned.describe() # Generate summary statistics for numerical columns"
      ],
      "metadata": {
        "id": "ozBW4LP4j-ME",
        "outputId": "f47f8ea2-9dcc-4e4c-fc3b-26be45cbb10f",
        "colab": {
          "base_uri": "https://localhost:8080/",
          "height": 300
        }
      },
      "execution_count": 11,
      "outputs": [
        {
          "output_type": "execute_result",
          "data": {
            "text/plain": [
              "       video_duration_sec  video_view_count  video_like_count  \\\n",
              "count        19084.000000      19084.000000      19084.000000   \n",
              "mean            32.423811     254708.558688      84304.636030   \n",
              "std             16.226470     322893.280814     133420.546814   \n",
              "min              5.000000         20.000000          0.000000   \n",
              "25%             18.000000       4942.500000        810.750000   \n",
              "50%             32.000000       9954.500000       3403.500000   \n",
              "75%             47.000000     504327.000000     125020.000000   \n",
              "max             60.000000     999817.000000     657830.000000   \n",
              "\n",
              "       video_share_count  video_download_count  video_comment_count  \\\n",
              "count       19084.000000          19084.000000         19084.000000   \n",
              "mean        16735.248323           1049.429627           349.312146   \n",
              "std         32036.174350           2004.299894           799.638865   \n",
              "min             0.000000              0.000000             0.000000   \n",
              "25%           115.000000              7.000000             1.000000   \n",
              "50%           717.000000             46.000000             9.000000   \n",
              "75%         18222.000000           1156.250000           292.000000   \n",
              "max        256130.000000          14994.000000          9599.000000   \n",
              "\n",
              "        text_length  \n",
              "count  19084.000000  \n",
              "mean      89.093534  \n",
              "std       20.682086  \n",
              "min       31.000000  \n",
              "25%       75.000000  \n",
              "50%       87.000000  \n",
              "75%      101.000000  \n",
              "max      182.000000  "
            ],
            "text/html": [
              "\n",
              "  <div id=\"df-9448cb32-b7b1-43d0-8540-b19d44e42fbc\" class=\"colab-df-container\">\n",
              "    <div>\n",
              "<style scoped>\n",
              "    .dataframe tbody tr th:only-of-type {\n",
              "        vertical-align: middle;\n",
              "    }\n",
              "\n",
              "    .dataframe tbody tr th {\n",
              "        vertical-align: top;\n",
              "    }\n",
              "\n",
              "    .dataframe thead th {\n",
              "        text-align: right;\n",
              "    }\n",
              "</style>\n",
              "<table border=\"1\" class=\"dataframe\">\n",
              "  <thead>\n",
              "    <tr style=\"text-align: right;\">\n",
              "      <th></th>\n",
              "      <th>video_duration_sec</th>\n",
              "      <th>video_view_count</th>\n",
              "      <th>video_like_count</th>\n",
              "      <th>video_share_count</th>\n",
              "      <th>video_download_count</th>\n",
              "      <th>video_comment_count</th>\n",
              "      <th>text_length</th>\n",
              "    </tr>\n",
              "  </thead>\n",
              "  <tbody>\n",
              "    <tr>\n",
              "      <th>count</th>\n",
              "      <td>19084.000000</td>\n",
              "      <td>19084.000000</td>\n",
              "      <td>19084.000000</td>\n",
              "      <td>19084.000000</td>\n",
              "      <td>19084.000000</td>\n",
              "      <td>19084.000000</td>\n",
              "      <td>19084.000000</td>\n",
              "    </tr>\n",
              "    <tr>\n",
              "      <th>mean</th>\n",
              "      <td>32.423811</td>\n",
              "      <td>254708.558688</td>\n",
              "      <td>84304.636030</td>\n",
              "      <td>16735.248323</td>\n",
              "      <td>1049.429627</td>\n",
              "      <td>349.312146</td>\n",
              "      <td>89.093534</td>\n",
              "    </tr>\n",
              "    <tr>\n",
              "      <th>std</th>\n",
              "      <td>16.226470</td>\n",
              "      <td>322893.280814</td>\n",
              "      <td>133420.546814</td>\n",
              "      <td>32036.174350</td>\n",
              "      <td>2004.299894</td>\n",
              "      <td>799.638865</td>\n",
              "      <td>20.682086</td>\n",
              "    </tr>\n",
              "    <tr>\n",
              "      <th>min</th>\n",
              "      <td>5.000000</td>\n",
              "      <td>20.000000</td>\n",
              "      <td>0.000000</td>\n",
              "      <td>0.000000</td>\n",
              "      <td>0.000000</td>\n",
              "      <td>0.000000</td>\n",
              "      <td>31.000000</td>\n",
              "    </tr>\n",
              "    <tr>\n",
              "      <th>25%</th>\n",
              "      <td>18.000000</td>\n",
              "      <td>4942.500000</td>\n",
              "      <td>810.750000</td>\n",
              "      <td>115.000000</td>\n",
              "      <td>7.000000</td>\n",
              "      <td>1.000000</td>\n",
              "      <td>75.000000</td>\n",
              "    </tr>\n",
              "    <tr>\n",
              "      <th>50%</th>\n",
              "      <td>32.000000</td>\n",
              "      <td>9954.500000</td>\n",
              "      <td>3403.500000</td>\n",
              "      <td>717.000000</td>\n",
              "      <td>46.000000</td>\n",
              "      <td>9.000000</td>\n",
              "      <td>87.000000</td>\n",
              "    </tr>\n",
              "    <tr>\n",
              "      <th>75%</th>\n",
              "      <td>47.000000</td>\n",
              "      <td>504327.000000</td>\n",
              "      <td>125020.000000</td>\n",
              "      <td>18222.000000</td>\n",
              "      <td>1156.250000</td>\n",
              "      <td>292.000000</td>\n",
              "      <td>101.000000</td>\n",
              "    </tr>\n",
              "    <tr>\n",
              "      <th>max</th>\n",
              "      <td>60.000000</td>\n",
              "      <td>999817.000000</td>\n",
              "      <td>657830.000000</td>\n",
              "      <td>256130.000000</td>\n",
              "      <td>14994.000000</td>\n",
              "      <td>9599.000000</td>\n",
              "      <td>182.000000</td>\n",
              "    </tr>\n",
              "  </tbody>\n",
              "</table>\n",
              "</div>\n",
              "    <div class=\"colab-df-buttons\">\n",
              "\n",
              "  <div class=\"colab-df-container\">\n",
              "    <button class=\"colab-df-convert\" onclick=\"convertToInteractive('df-9448cb32-b7b1-43d0-8540-b19d44e42fbc')\"\n",
              "            title=\"Convert this dataframe to an interactive table.\"\n",
              "            style=\"display:none;\">\n",
              "\n",
              "  <svg xmlns=\"http://www.w3.org/2000/svg\" height=\"24px\" viewBox=\"0 -960 960 960\">\n",
              "    <path d=\"M120-120v-720h720v720H120Zm60-500h600v-160H180v160Zm220 220h160v-160H400v160Zm0 220h160v-160H400v160ZM180-400h160v-160H180v160Zm440 0h160v-160H620v160ZM180-180h160v-160H180v160Zm440 0h160v-160H620v160Z\"/>\n",
              "  </svg>\n",
              "    </button>\n",
              "\n",
              "  <style>\n",
              "    .colab-df-container {\n",
              "      display:flex;\n",
              "      gap: 12px;\n",
              "    }\n",
              "\n",
              "    .colab-df-convert {\n",
              "      background-color: #E8F0FE;\n",
              "      border: none;\n",
              "      border-radius: 50%;\n",
              "      cursor: pointer;\n",
              "      display: none;\n",
              "      fill: #1967D2;\n",
              "      height: 32px;\n",
              "      padding: 0 0 0 0;\n",
              "      width: 32px;\n",
              "    }\n",
              "\n",
              "    .colab-df-convert:hover {\n",
              "      background-color: #E2EBFA;\n",
              "      box-shadow: 0px 1px 2px rgba(60, 64, 67, 0.3), 0px 1px 3px 1px rgba(60, 64, 67, 0.15);\n",
              "      fill: #174EA6;\n",
              "    }\n",
              "\n",
              "    .colab-df-buttons div {\n",
              "      margin-bottom: 4px;\n",
              "    }\n",
              "\n",
              "    [theme=dark] .colab-df-convert {\n",
              "      background-color: #3B4455;\n",
              "      fill: #D2E3FC;\n",
              "    }\n",
              "\n",
              "    [theme=dark] .colab-df-convert:hover {\n",
              "      background-color: #434B5C;\n",
              "      box-shadow: 0px 1px 3px 1px rgba(0, 0, 0, 0.15);\n",
              "      filter: drop-shadow(0px 1px 2px rgba(0, 0, 0, 0.3));\n",
              "      fill: #FFFFFF;\n",
              "    }\n",
              "  </style>\n",
              "\n",
              "    <script>\n",
              "      const buttonEl =\n",
              "        document.querySelector('#df-9448cb32-b7b1-43d0-8540-b19d44e42fbc button.colab-df-convert');\n",
              "      buttonEl.style.display =\n",
              "        google.colab.kernel.accessAllowed ? 'block' : 'none';\n",
              "\n",
              "      async function convertToInteractive(key) {\n",
              "        const element = document.querySelector('#df-9448cb32-b7b1-43d0-8540-b19d44e42fbc');\n",
              "        const dataTable =\n",
              "          await google.colab.kernel.invokeFunction('convertToInteractive',\n",
              "                                                    [key], {});\n",
              "        if (!dataTable) return;\n",
              "\n",
              "        const docLinkHtml = 'Like what you see? Visit the ' +\n",
              "          '<a target=\"_blank\" href=https://colab.research.google.com/notebooks/data_table.ipynb>data table notebook</a>'\n",
              "          + ' to learn more about interactive tables.';\n",
              "        element.innerHTML = '';\n",
              "        dataTable['output_type'] = 'display_data';\n",
              "        await google.colab.output.renderOutput(dataTable, element);\n",
              "        const docLink = document.createElement('div');\n",
              "        docLink.innerHTML = docLinkHtml;\n",
              "        element.appendChild(docLink);\n",
              "      }\n",
              "    </script>\n",
              "  </div>\n",
              "\n",
              "\n",
              "<div id=\"df-20cd827d-7f69-4e0f-a81c-3ee16463e241\">\n",
              "  <button class=\"colab-df-quickchart\" onclick=\"quickchart('df-20cd827d-7f69-4e0f-a81c-3ee16463e241')\"\n",
              "            title=\"Suggest charts\"\n",
              "            style=\"display:none;\">\n",
              "\n",
              "<svg xmlns=\"http://www.w3.org/2000/svg\" height=\"24px\"viewBox=\"0 0 24 24\"\n",
              "     width=\"24px\">\n",
              "    <g>\n",
              "        <path d=\"M19 3H5c-1.1 0-2 .9-2 2v14c0 1.1.9 2 2 2h14c1.1 0 2-.9 2-2V5c0-1.1-.9-2-2-2zM9 17H7v-7h2v7zm4 0h-2V7h2v10zm4 0h-2v-4h2v4z\"/>\n",
              "    </g>\n",
              "</svg>\n",
              "  </button>\n",
              "\n",
              "<style>\n",
              "  .colab-df-quickchart {\n",
              "      --bg-color: #E8F0FE;\n",
              "      --fill-color: #1967D2;\n",
              "      --hover-bg-color: #E2EBFA;\n",
              "      --hover-fill-color: #174EA6;\n",
              "      --disabled-fill-color: #AAA;\n",
              "      --disabled-bg-color: #DDD;\n",
              "  }\n",
              "\n",
              "  [theme=dark] .colab-df-quickchart {\n",
              "      --bg-color: #3B4455;\n",
              "      --fill-color: #D2E3FC;\n",
              "      --hover-bg-color: #434B5C;\n",
              "      --hover-fill-color: #FFFFFF;\n",
              "      --disabled-bg-color: #3B4455;\n",
              "      --disabled-fill-color: #666;\n",
              "  }\n",
              "\n",
              "  .colab-df-quickchart {\n",
              "    background-color: var(--bg-color);\n",
              "    border: none;\n",
              "    border-radius: 50%;\n",
              "    cursor: pointer;\n",
              "    display: none;\n",
              "    fill: var(--fill-color);\n",
              "    height: 32px;\n",
              "    padding: 0;\n",
              "    width: 32px;\n",
              "  }\n",
              "\n",
              "  .colab-df-quickchart:hover {\n",
              "    background-color: var(--hover-bg-color);\n",
              "    box-shadow: 0 1px 2px rgba(60, 64, 67, 0.3), 0 1px 3px 1px rgba(60, 64, 67, 0.15);\n",
              "    fill: var(--button-hover-fill-color);\n",
              "  }\n",
              "\n",
              "  .colab-df-quickchart-complete:disabled,\n",
              "  .colab-df-quickchart-complete:disabled:hover {\n",
              "    background-color: var(--disabled-bg-color);\n",
              "    fill: var(--disabled-fill-color);\n",
              "    box-shadow: none;\n",
              "  }\n",
              "\n",
              "  .colab-df-spinner {\n",
              "    border: 2px solid var(--fill-color);\n",
              "    border-color: transparent;\n",
              "    border-bottom-color: var(--fill-color);\n",
              "    animation:\n",
              "      spin 1s steps(1) infinite;\n",
              "  }\n",
              "\n",
              "  @keyframes spin {\n",
              "    0% {\n",
              "      border-color: transparent;\n",
              "      border-bottom-color: var(--fill-color);\n",
              "      border-left-color: var(--fill-color);\n",
              "    }\n",
              "    20% {\n",
              "      border-color: transparent;\n",
              "      border-left-color: var(--fill-color);\n",
              "      border-top-color: var(--fill-color);\n",
              "    }\n",
              "    30% {\n",
              "      border-color: transparent;\n",
              "      border-left-color: var(--fill-color);\n",
              "      border-top-color: var(--fill-color);\n",
              "      border-right-color: var(--fill-color);\n",
              "    }\n",
              "    40% {\n",
              "      border-color: transparent;\n",
              "      border-right-color: var(--fill-color);\n",
              "      border-top-color: var(--fill-color);\n",
              "    }\n",
              "    60% {\n",
              "      border-color: transparent;\n",
              "      border-right-color: var(--fill-color);\n",
              "    }\n",
              "    80% {\n",
              "      border-color: transparent;\n",
              "      border-right-color: var(--fill-color);\n",
              "      border-bottom-color: var(--fill-color);\n",
              "    }\n",
              "    90% {\n",
              "      border-color: transparent;\n",
              "      border-bottom-color: var(--fill-color);\n",
              "    }\n",
              "  }\n",
              "</style>\n",
              "\n",
              "  <script>\n",
              "    async function quickchart(key) {\n",
              "      const quickchartButtonEl =\n",
              "        document.querySelector('#' + key + ' button');\n",
              "      quickchartButtonEl.disabled = true;  // To prevent multiple clicks.\n",
              "      quickchartButtonEl.classList.add('colab-df-spinner');\n",
              "      try {\n",
              "        const charts = await google.colab.kernel.invokeFunction(\n",
              "            'suggestCharts', [key], {});\n",
              "      } catch (error) {\n",
              "        console.error('Error during call to suggestCharts:', error);\n",
              "      }\n",
              "      quickchartButtonEl.classList.remove('colab-df-spinner');\n",
              "      quickchartButtonEl.classList.add('colab-df-quickchart-complete');\n",
              "    }\n",
              "    (() => {\n",
              "      let quickchartButtonEl =\n",
              "        document.querySelector('#df-20cd827d-7f69-4e0f-a81c-3ee16463e241 button');\n",
              "      quickchartButtonEl.style.display =\n",
              "        google.colab.kernel.accessAllowed ? 'block' : 'none';\n",
              "    })();\n",
              "  </script>\n",
              "</div>\n",
              "\n",
              "    </div>\n",
              "  </div>\n"
            ],
            "application/vnd.google.colaboratory.intrinsic+json": {
              "type": "dataframe",
              "summary": "{\n  \"name\": \"df_cleaned\",\n  \"rows\": 8,\n  \"fields\": [\n    {\n      \"column\": \"video_duration_sec\",\n      \"properties\": {\n        \"dtype\": \"number\",\n        \"std\": 6736.596336633436,\n        \"min\": 5.0,\n        \"max\": 19084.0,\n        \"num_unique_values\": 8,\n        \"samples\": [\n          32.423810521903164,\n          32.0,\n          19084.0\n        ],\n        \"semantic_type\": \"\",\n        \"description\": \"\"\n      }\n    },\n    {\n      \"column\": \"video_view_count\",\n      \"properties\": {\n        \"dtype\": \"number\",\n        \"std\": 351335.3934442509,\n        \"min\": 20.0,\n        \"max\": 999817.0,\n        \"num_unique_values\": 8,\n        \"samples\": [\n          254708.5586879061,\n          9954.5,\n          19084.0\n        ],\n        \"semantic_type\": \"\",\n        \"description\": \"\"\n      }\n    },\n    {\n      \"column\": \"video_like_count\",\n      \"properties\": {\n        \"dtype\": \"number\",\n        \"std\": 221235.31836408968,\n        \"min\": 0.0,\n        \"max\": 657830.0,\n        \"num_unique_values\": 8,\n        \"samples\": [\n          84304.63603018236,\n          3403.5,\n          19084.0\n        ],\n        \"semantic_type\": \"\",\n        \"description\": \"\"\n      }\n    },\n    {\n      \"column\": \"video_share_count\",\n      \"properties\": {\n        \"dtype\": \"number\",\n        \"std\": 86928.72603372429,\n        \"min\": 0.0,\n        \"max\": 256130.0,\n        \"num_unique_values\": 8,\n        \"samples\": [\n          16735.248323202683,\n          717.0,\n          19084.0\n        ],\n        \"semantic_type\": \"\",\n        \"description\": \"\"\n      }\n    },\n    {\n      \"column\": \"video_download_count\",\n      \"properties\": {\n        \"dtype\": \"number\",\n        \"std\": 7669.260095077775,\n        \"min\": 0.0,\n        \"max\": 19084.0,\n        \"num_unique_values\": 8,\n        \"samples\": [\n          1049.4296269125969,\n          46.0,\n          19084.0\n        ],\n        \"semantic_type\": \"\",\n        \"description\": \"\"\n      }\n    },\n    {\n      \"column\": \"video_comment_count\",\n      \"properties\": {\n        \"dtype\": \"number\",\n        \"std\": 7006.9329835049075,\n        \"min\": 0.0,\n        \"max\": 19084.0,\n        \"num_unique_values\": 8,\n        \"samples\": [\n          349.3121463005659,\n          9.0,\n          19084.0\n        ],\n        \"semantic_type\": \"\",\n        \"description\": \"\"\n      }\n    },\n    {\n      \"column\": \"text_length\",\n      \"properties\": {\n        \"dtype\": \"number\",\n        \"std\": 6717.805682234297,\n        \"min\": 20.682085945033077,\n        \"max\": 19084.0,\n        \"num_unique_values\": 8,\n        \"samples\": [\n          89.09353385034584,\n          87.0,\n          19084.0\n        ],\n        \"semantic_type\": \"\",\n        \"description\": \"\"\n      }\n    }\n  ]\n}"
            }
          },
          "metadata": {},
          "execution_count": 11
        }
      ]
    },
    {
      "cell_type": "code",
      "source": [
        "# Split the DataFrame into features (X) and target (Y)\n",
        "X = df_cleaned.drop('claim_status', axis=1) # Features (everything except 'claim_status')\n",
        "Y = df_cleaned['claim_status'] # Target (the 'claim_status' column)\n",
        "\n",
        "# Split data into training and testing sets (80% training, 20% testing)\n",
        "X_train, X_test, y_train, y_test = train_test_split(X, Y, test_size=0.2, random_state=25)\n",
        "\n",
        "train = X_train.join(y_train) # Combine the training features and target\n",
        "test = X_test.join(y_test) # Combine the testing features and target"
      ],
      "metadata": {
        "id": "_dbJyvdskJCK"
      },
      "execution_count": 12,
      "outputs": []
    },
    {
      "cell_type": "code",
      "source": [
        "# Claim_status\n",
        "\n",
        "# Plot the distribution of 'claim_status' in the training set\n",
        "plt.figure(figsize=(4, 3))\n",
        "sns.countplot(data=train, x='claim_status', palette='viridis') # Create a count plot for 'claim_status'\n",
        "\n",
        "# Annotate each bar with the percentage of total entries\n",
        "for p in plt.gca().patches:\n",
        "    height = p.get_height()\n",
        "    plt.gca().text(p.get_x() + p.get_width() / 2, height, f'{height / len(train):.1%}', ha='center', va='bottom')\n",
        "\n",
        "# Add title and labels\n",
        "plt.title('Distribution of Claim Status')\n",
        "plt.xlabel('Claim Status')\n",
        "plt.ylabel('Count')\n",
        "\n",
        "plt.ylim(0, len(train) * 0.6) # Adjust y-axis limits\n",
        "plt.show() # Display the plot"
      ],
      "metadata": {
        "id": "F22b5MHwk91_",
        "outputId": "6d5e2ffb-4e93-4c9d-ac46-bbc2f74bc8df",
        "colab": {
          "base_uri": "https://localhost:8080/",
          "height": 420
        }
      },
      "execution_count": 13,
      "outputs": [
        {
          "output_type": "stream",
          "name": "stderr",
          "text": [
            "<ipython-input-13-06ceea72bf70>:5: FutureWarning: \n",
            "\n",
            "Passing `palette` without assigning `hue` is deprecated and will be removed in v0.14.0. Assign the `x` variable to `hue` and set `legend=False` for the same effect.\n",
            "\n",
            "  sns.countplot(data=train, x='claim_status', palette='viridis') # Create a count plot for 'claim_status'\n"
          ]
        },
        {
          "output_type": "display_data",
          "data": {
            "text/plain": [
              "<Figure size 400x300 with 1 Axes>"
            ],
            "image/png": "[encoded data removed]"
          },
          "metadata": {}
        }
      ]
    },
    {
      "cell_type": "code",
      "source": [
        "# Get 'viridis' colormap and select specific colors for the pie chart\n",
        "cmap = plt.get_cmap('viridis')\n",
        "blue = cmap(0.3)   # Pick a blue from the colormap\n",
        "green = cmap(0.6)  # Pick a green from the colormap\n",
        "colors = [blue, green]\n",
        "\n",
        "# Create a pie chart to show the total video views by claim status\n",
        "fig = plt.figure(figsize=(4,4))\n",
        "plt.pie(train.groupby('claim_status')['video_view_count'].sum(), labels=['claim', 'opinion'], autopct='%1.1f%%', colors=colors)\n",
        "# Add a title to the pie chart\n",
        "plt.title('Total views by video claim status');"
      ],
      "metadata": {
        "id": "hRx26MqNlRVV",
        "outputId": "a2c479c7-a919-422a-fb43-2ce9a1e575e9",
        "colab": {
          "base_uri": "https://localhost:8080/",
          "height": 367
        }
      },
      "execution_count": 14,
      "outputs": [
        {
          "output_type": "display_data",
          "data": {
            "text/plain": [
              "<Figure size 400x400 with 1 Axes>"
            ],
            "image/png": "[encoded data removed]"
          },
          "metadata": {}
        }
      ]
    },
    {
      "cell_type": "code",
      "source": [
        "# author_ban_status\n",
        "\n",
        "# Create a bar plot\n",
        "plt.figure(figsize=(4, 3))\n",
        "sns.countplot(data=train, x='author_ban_status', palette='viridis')\n",
        "\n",
        "# Add percentage labels on top of each bar\n",
        "for p in plt.gca().patches:\n",
        "    height = p.get_height()\n",
        "    plt.gca().text(p.get_x() + p.get_width() / 2, height, f'{height / len(train):.1%}', ha='center', va='bottom')\n",
        "\n",
        "plt.title('Distribution of Author ban status')\n",
        "plt.xlabel('Author ban status')\n",
        "plt.ylabel('Count')\n",
        "\n",
        "# Set the y-axis limit\n",
        "plt.ylim(0, len(train))\n",
        "plt.show()"
      ],
      "metadata": {
        "id": "NK6lO8r1lYDt",
        "outputId": "208056a5-ba8f-4d23-e6ca-82450c2591ce",
        "colab": {
          "base_uri": "https://localhost:8080/",
          "height": 420
        }
      },
      "execution_count": 15,
      "outputs": [
        {
          "output_type": "stream",
          "name": "stderr",
          "text": [
            "<ipython-input-15-89175a2a49a9>:5: FutureWarning: \n",
            "\n",
            "Passing `palette` without assigning `hue` is deprecated and will be removed in v0.14.0. Assign the `x` variable to `hue` and set `legend=False` for the same effect.\n",
            "\n",
            "  sns.countplot(data=train, x='author_ban_status', palette='viridis')\n"
          ]
        },
        {
          "output_type": "display_data",
          "data": {
            "text/plain": [
              "<Figure size 400x300 with 1 Axes>"
            ],
            "image/png": "[encoded data removed]"
          },
          "metadata": {}
        }
      ]
    },
    {
      "cell_type": "code",
      "source": [
        "# Distribution of Claim Status across Author ban status\n",
        "\n",
        "table = train.groupby(['claim_status','author_ban_status']).size().reset_index(name='Frequency')\n",
        "table['Percentage'] = table.groupby('claim_status')['Frequency'].transform(lambda x: x / x.sum() * 100)\n",
        "plt.figure(figsize=(6,4))\n",
        "sns.barplot(data=table, x='claim_status', y='Percentage', hue='author_ban_status', edgecolor='black', palette='viridis').set(title='Distribution of Claim Status across Author ban status')\n",
        "\n",
        "sns.set_style(\"whitegrid\")\n",
        "sns.despine(left=True)\n",
        "plt.show()"
      ],
      "metadata": {
        "id": "DYal23zulgJ1",
        "outputId": "bda50dd8-49e8-4853-cde4-d55b8dd4beb1",
        "colab": {
          "base_uri": "https://localhost:8080/",
          "height": 410
        }
      },
      "execution_count": 16,
      "outputs": [
        {
          "output_type": "display_data",
          "data": {
            "text/plain": [
              "<Figure size 600x400 with 1 Axes>"
            ],
            "image/png": "[encoded data removed]"
          },
          "metadata": {}
        }
      ]
    },
    {
      "cell_type": "code",
      "source": [
        "# verified_status\n",
        "\n",
        "plt.figure(figsize=(4, 3))\n",
        "sns.countplot(data=train, x='verified_status', palette='viridis') # Count plot of 'verified_status' column\n",
        "\n",
        "# Annotate each bar with the percentage of total entries\n",
        "for p in plt.gca().patches:\n",
        "    height = p.get_height()\n",
        "    plt.gca().text(p.get_x() + p.get_width() / 2, height, f'{height / len(train):.1%}', ha='center', va='bottom')\n",
        "\n",
        "# Add title and labels for the plot\n",
        "plt.title('Distribution of Verified status')\n",
        "plt.xlabel('Verified status')\n",
        "plt.ylabel('Count')\n",
        "\n",
        "# Set y-axis limit\n",
        "plt.ylim(0, len(train))\n",
        "# Display the plot\n",
        "plt.show()"
      ],
      "metadata": {
        "id": "91W4VVj7loOo",
        "outputId": "88c48d93-950a-48f3-df43-20a1e72429d6",
        "colab": {
          "base_uri": "https://localhost:8080/",
          "height": 420
        }
      },
      "execution_count": 17,
      "outputs": [
        {
          "output_type": "stream",
          "name": "stderr",
          "text": [
            "<ipython-input-17-f96e4f8ea9de>:4: FutureWarning: \n",
            "\n",
            "Passing `palette` without assigning `hue` is deprecated and will be removed in v0.14.0. Assign the `x` variable to `hue` and set `legend=False` for the same effect.\n",
            "\n",
            "  sns.countplot(data=train, x='verified_status', palette='viridis') # Count plot of 'verified_status' column\n"
          ]
        },
        {
          "output_type": "display_data",
          "data": {
            "text/plain": [
              "<Figure size 400x300 with 1 Axes>"
            ],
            "image/png": "[encoded data removed]"
          },
          "metadata": {}
        }
      ]
    },
    {
      "cell_type": "code",
      "source": [
        "#categorical_cols = ['verified_status', 'author_ban_status']\n",
        "numerical_cols = ['video_duration_sec', 'video_view_count', 'video_like_count', 'video_share_count', 'video_download_count', 'video_comment_count', 'text_length']\n",
        "\n",
        "# Define transformers for numerical data\n",
        "numerical_transformer = StandardScaler()\n",
        "categorical_transformer = OneHotEncoder()\n",
        "\n",
        "# Combine transformers into a preprocessor\n",
        "preprocessor = ColumnTransformer(\n",
        "    transformers=[\n",
        "        ('num', numerical_transformer, numerical_cols), # Apply scaling to numerical columns\n",
        "       # ('cat', categorical_transformer, categorical_cols)\n",
        "    ])\n",
        "\n",
        "# Create a KNN pipeline\n",
        "knn_pipeline = Pipeline(steps=[('preprocessor', preprocessor),\n",
        "                               ('classifier', KNeighborsClassifier())])"
      ],
      "metadata": {
        "id": "TB0prqF90agS"
      },
      "execution_count": 18,
      "outputs": []
    },
    {
      "cell_type": "code",
      "source": [
        "# Initialize an empty list to store error rates\n",
        "error_rates = []\n",
        "\n",
        "# Drop irrelevant columns from training and test sets\n",
        "X_train_knn = X_train.drop(columns=['verified_status', 'author_ban_status'])\n",
        "X_test_knn = X_test.drop(columns=['verified_status', 'author_ban_status'])\n",
        "\n",
        "# Iterate over a range of k values\n",
        "for k in range(1, 21):\n",
        "    knn_pipeline.set_params(classifier__n_neighbors=k)     # Set the number of neighbors for KNN\n",
        "    knn_pipeline.fit(X_train_knn, y_train)  # Train the model with current k\n",
        "    y_pred = knn_pipeline.predict(X_test_knn)  # Make predictions on the test set\n",
        "    error_rate = 1 - accuracy_score(y_test, y_pred) # Calculate error rate and store it\n",
        "    error_rates.append(error_rate)\n",
        "\n",
        "# Plotting the error rate vs k\n",
        "plt.figure(figsize=(10, 6))\n",
        "plt.plot(range(1, 21), error_rates, marker='o', linestyle='--', color='b')\n",
        "plt.title('Elbow Method for Optimal k')\n",
        "plt.xlabel('Number of Neighbors (k)')\n",
        "plt.ylabel('Error Rate')\n",
        "plt.xticks(np.arange(1, 21, 1))\n",
        "plt.show()"
      ],
      "metadata": {
        "colab": {
          "base_uri": "https://localhost:8080/",
          "height": 564
        },
        "id": "rOYj02gh0cs4",
        "outputId": "46c8ce30-4c47-4acf-d03b-e8927cd54c24"
      },
      "execution_count": 19,
      "outputs": [
        {
          "output_type": "display_data",
          "data": {
            "text/plain": [
              "<Figure size 1000x600 with 1 Axes>"
            ],
            "image/png": "[encoded data removed]"
          },
          "metadata": {}
        }
      ]
    },
    {
      "cell_type": "code",
      "source": [
        "#optimal_k = np.argmin(error_rates) + 1  # np.argmin returns the index of the min value, add 1 to match the actual k value\n",
        "optimal_k = 3\n",
        "print(f\"Optimal k: {optimal_k}\")\n",
        "\n",
        "# Drop unnecessary columns from training and test sets\n",
        "X_train_knn = X_train.drop(columns=['verified_status', 'author_ban_status'])\n",
        "X_test_knn = X_test.drop(columns=['verified_status', 'author_ban_status'])\n",
        "\n",
        "# Fit the model with the optimal k\n",
        "knn_pipeline.set_params(classifier__n_neighbors=optimal_k)\n",
        "knn_pipeline.fit(X_train_knn, y_train)\n",
        "\n",
        "# Make predictions on both training and test sets\n",
        "knn_train_pred = knn_pipeline.predict(X_train_knn)\n",
        "knn_test_pred = knn_pipeline.predict(X_test_knn)\n",
        "\n",
        "# Calculate accuracy for both train and test sets\n",
        "train_accuracy = accuracy_score(y_train, knn_train_pred)\n",
        "test_accuracy = accuracy_score(y_test, knn_test_pred)\n",
        "\n",
        "# Generate classification report for test predictions\n",
        "from sklearn.metrics import classification_report\n",
        "report = classification_report(y_test, knn_test_pred)\n",
        "\n",
        "# Print the accuracy and classification report\n",
        "print(f\"Train Accuracy: {train_accuracy:.4f}\")\n",
        "print(f\"Test Accuracy: {test_accuracy:.4f}\")\n",
        "\n",
        "print(report)"
      ],
      "metadata": {
        "colab": {
          "base_uri": "https://localhost:8080/"
        },
        "id": "JWwGFsDo1RB0",
        "outputId": "b5703a3d-ce74-4a1f-9c21-c383667d7607"
      },
      "execution_count": 20,
      "outputs": [
        {
          "output_type": "stream",
          "name": "stdout",
          "text": [
            "Optimal k: 3\n",
            "Train Accuracy: 0.9824\n",
            "Test Accuracy: 0.9806\n",
            "              precision    recall  f1-score   support\n",
            "\n",
            "       claim       1.00      0.96      0.98      1923\n",
            "     opinion       0.96      1.00      0.98      1894\n",
            "\n",
            "    accuracy                           0.98      3817\n",
            "   macro avg       0.98      0.98      0.98      3817\n",
            "weighted avg       0.98      0.98      0.98      3817\n",
            "\n"
          ]
        }
      ]
    },
    {
      "cell_type": "code",
      "source": [
        "contingency_table = pd.crosstab(y_test, knn_test_pred, rownames=['True'], colnames=['Predicted'])\n",
        "print(contingency_table)"
      ],
      "metadata": {
        "colab": {
          "base_uri": "https://localhost:8080/"
        },
        "id": "CgkcxPWS1hHc",
        "outputId": "50012e23-eb36-4675-a6e7-c8476aae27c9"
      },
      "execution_count": 21,
      "outputs": [
        {
          "output_type": "stream",
          "name": "stdout",
          "text": [
            "Predicted  claim  opinion\n",
            "True                     \n",
            "claim       1854       69\n",
            "opinion        5     1889\n"
          ]
        }
      ]
    },
    {
      "cell_type": "code",
      "source": [
        "plt.figure(figsize=(6, 4))\n",
        "sns.heatmap(contingency_table, annot=True, fmt='d', cmap='Blues', cbar=False)\n",
        "plt.title('Confusion Matrix')\n",
        "plt.xlabel('Predicted Labels')\n",
        "plt.ylabel('True Labels')\n",
        "plt.show()"
      ],
      "metadata": {
        "colab": {
          "base_uri": "https://localhost:8080/",
          "height": 410
        },
        "id": "78mn7H651jP-",
        "outputId": "ae0363d6-517f-4937-9d18-7428ecddf66e"
      },
      "execution_count": 22,
      "outputs": [
        {
          "output_type": "display_data",
          "data": {
            "text/plain": [
              "<Figure size 600x400 with 1 Axes>"
            ],
            "image/png": "[encoded data removed]"
          },
          "metadata": {}
        }
      ]
    }
  ],
  "metadata": {
    "colab": {
      "provenance": [],
      "include_colab_link": true
    },
    "kernelspec": {
      "display_name": "Python 3",
      "name": "python3"
    }
  },
  "nbformat": 4,
  "nbformat_minor": 0
}